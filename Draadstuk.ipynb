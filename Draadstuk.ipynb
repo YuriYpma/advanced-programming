{
 "cells": [
  {
   "cell_type": "markdown",
   "metadata": {},
   "source": [
    "## Imports"
   ]
  },
  {
   "cell_type": "code",
   "execution_count": 2,
   "metadata": {},
   "outputs": [
    {
     "data": {
      "text/html": [
       "<div id=\"glowscript\" class=\"glowscript\"></div>"
      ],
      "text/plain": [
       "<IPython.core.display.HTML object>"
      ]
     },
     "metadata": {},
     "output_type": "display_data"
    },
    {
     "data": {
      "application/javascript": [
       "if (typeof Jupyter !== \"undefined\") { window.__context = { glowscript_container: $(\"#glowscript\").removeAttr(\"id\")};}else{ element.textContent = ' ';}"
      ],
      "text/plain": [
       "<IPython.core.display.Javascript object>"
      ]
     },
     "metadata": {},
     "output_type": "display_data"
    }
   ],
   "source": [
    "# Importing libraries\n",
    "import os\n",
    "import sys\n",
    "import vpython as vp\n",
    "import numpy as np\n",
    "import matplotlib.pyplot as plt\n",
    "\n",
    "# Importing custom libraries\n",
    "from helper import set_scene, EPS0, K, calc_F_coulomb, calc_Efield, MU0, calc_Bfield\n",
    "import bodies as bd"
   ]
  },
  {
   "cell_type": "markdown",
   "metadata": {},
   "source": [
    "## (7p) Draadstuk\n",
    "\n",
    "Figuur 1 laat een draadstuk zien in een extern magneetveld. In deze opgave, gaan we deze situatie modelleren in Python zodat we de totale Lorentzkracht uit kunnen rekenen voor dit draadstuk."
   ]
  },
  {
   "cell_type": "markdown",
   "metadata": {},
   "source": [
    "### (5p) a) Modelleer bovenstaande situatie in Python door middel van de volgende stappen:\n",
    "1. Visualiseer het externe magneetveld (1p)\n",
    "2. Visualiseer het draadstuk met de stroom (2p)\n",
    "3. Bereken en visualiseer de Lorentzkracht op elk element van het draadstuk (2p)\n",
    "\n",
    "Gebruik de volgende waarden voor de simulatie:\n",
    "- $a=60$ $cm$\n",
    "- $b=50$ $cm$\n",
    "- $B=1$ $T$\n",
    "- $I=2$ $A$\n",
    "\n",
    "*hint: Figuur 2 laat een voorbeeld zien van hoe de simulatie eruit moet komen te zien (kleine verschillen zijn geen probleem)*\n"
   ]
  },
  {
   "cell_type": "code",
   "execution_count": 14,
   "metadata": {},
   "outputs": [
    {
     "data": {
      "text/html": [
       "<div id=\"glowscript\" class=\"glowscript\"></div>"
      ],
      "text/plain": [
       "<IPython.core.display.HTML object>"
      ]
     },
     "metadata": {},
     "output_type": "display_data"
    },
    {
     "data": {
      "application/javascript": [
       "if (typeof Jupyter !== \"undefined\") { window.__context = { glowscript_container: $(\"#glowscript\").removeAttr(\"id\")};}else{ element.textContent = ' ';}"
      ],
      "text/plain": [
       "<IPython.core.display.Javascript object>"
      ]
     },
     "metadata": {},
     "output_type": "display_data"
    }
   ],
   "source": [
    "B = vp.vector(0,0,1)\n",
    "a=0.6\n",
    "b=0.5\n",
    "num_elements=1\n",
    "\n",
    "def show_Bfield(pos):\n",
    "    return B\n",
    "\n",
    "set_scene(axes_length=0.1)\n",
    "\n",
    "\n",
    "Bplane = bd.Plane(c0=vp.vector(-1,-1,0), c1=vp.vector(1,-1,0), c2=vp.vector(-1,1,0),\n",
    "                 opacity=0, nr_elements=36, arrow_color=vp.color.green)\n",
    "Bwire1= bd.Line(start=vp.vector(-a,0,0),finish=vp.vector(0,0,0),nr_elements=num_elements)\n",
    "Bwire2= bd.Line(start=vp.vector(0,0,0),finish=vp.vector(0,b,0),nr_elements=num_elements)\n",
    "Bwire3= bd.Line(start=vp.vector(0,b,0),finish=vp.vector(a,b,0),nr_elements=num_elements)\n",
    "Bplane.set_vector_function(show_Bfield)"
   ]
  },
  {
   "cell_type": "markdown",
   "metadata": {},
   "source": [
    "### (2p) b) Bereken en print de totale kracht op het draadstuk"
   ]
  },
  {
   "cell_type": "code",
   "execution_count": null,
   "metadata": {},
   "outputs": [],
   "source": [
    "# Zet de code voor opgave b) hier"
   ]
  }
 ],
 "metadata": {
  "kernelspec": {
   "display_name": "Python 3 (ipykernel)",
   "language": "python",
   "name": "python3"
  },
  "language_info": {
   "codemirror_mode": {
    "name": "ipython",
    "version": 3
   },
   "file_extension": ".py",
   "mimetype": "text/x-python",
   "name": "python",
   "nbconvert_exporter": "python",
   "pygments_lexer": "ipython3",
   "version": "3.9.19"
  }
 },
 "nbformat": 4,
 "nbformat_minor": 4
}
